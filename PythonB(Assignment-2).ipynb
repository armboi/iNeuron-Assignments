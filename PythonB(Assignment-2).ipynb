{
 "cells": [
  {
   "cell_type": "markdown",
   "metadata": {},
   "source": [
    "1. What are the two values of the Boolean data type? How do you write them?\n",
    " \n",
    " -The two values of boolean data type is True and False\n",
    "  \n",
    "  a = True\n",
    "  b = False"
   ]
  },
  {
   "cell_type": "markdown",
   "metadata": {},
   "source": [
    "2. What are the three different types of Boolean operators?\n",
    "\n",
    " -Three types of boolean operators are \n",
    "    -and\n",
    "    -or\n",
    "    -not"
   ]
  },
  {
   "cell_type": "markdown",
   "metadata": {},
   "source": [
    "3. Make a list of each Boolean operator's truth tables (i.e. every possible combination of Boolean values for the operator and what it evaluate ).\n",
    "\n",
    "and-Operator\n",
    "    x           y          x and y\n",
    "   True       True          True\n",
    "   True       False         False   \n",
    "   False      True          False  \n",
    "   False      False         False  \n",
    "   \n",
    "   \n",
    "or-Operator\n",
    "    x           y          x and y\n",
    "   True       True          True\n",
    "   True       False         True   \n",
    "   False      True          True \n",
    "   False      False         False  \n",
    "   \n",
    "   \n",
    "not-Operator\n",
    "    x        not x   \n",
    "   True      False\n",
    "   False     True"
   ]
  },
  {
   "cell_type": "markdown",
   "metadata": {},
   "source": [
    "4. What are the values of the following expressions?\n",
    "    (5>4) and (3==5)\n",
    "        -False\n",
    "    not(5>4)\n",
    "        -False\n",
    "    (5>4)or(3==5)\n",
    "        -True\n",
    "    not((5>4)or(3==5))\n",
    "        -False\n",
    "    (True and True)and(True == False)\n",
    "        -False\n",
    "    (not False) or (not True)\n",
    "        -True"
   ]
  },
  {
   "cell_type": "markdown",
   "metadata": {},
   "source": [
    "5. What are the six comparison operators?\n",
    " ==\n",
    " !=\n",
    " >\n",
    " <\n",
    " >=\n",
    " <="
   ]
  },
  {
   "cell_type": "markdown",
   "metadata": {},
   "source": [
    "6. How do you tell the difference between the equal to and assignment operators? Describe a condition and when you would use one.\n",
    "-Equal to operator (==)\n",
    "    Used to compare whether two values are equal or not.\n",
    "-Assignment operator (=)\n",
    "    Used to assign a value to a variable"
   ]
  },
  {
   "cell_type": "markdown",
   "metadata": {},
   "source": [
    "7. Identify the three blocks in this code:\n",
    "spam = 0\n",
    "if spam == 10:\n",
    "print('eggs')\n",
    "if spam>5:\n",
    "print('bacon')\n",
    "else:\n",
    "print('ham')\n",
    "print('spam')\n",
    "print('spam')\n",
    "\n",
    "Block 1 -\n",
    "    if spam == 10:\n",
    "        print('eggs')\n",
    "        \n",
    "Block 2 -\n",
    "    if spam>5:\n",
    "        print('bacon')\n",
    "        \n",
    "Block 3 -\n",
    "    else:\n",
    "        print('ham')\n",
    "        print('spam')\n",
    "        print('spam')"
   ]
  },
  {
   "cell_type": "code",
   "execution_count": null,
   "metadata": {},
   "outputs": [],
   "source": [
    "<!-- 8. Write code that prints Hello if 1 is stored in spam, prints Howdy if 2 is stored in spam, and prints Greetings! if anything else is stored in spam. \n",
    "\n",
    "spam = int(input())\n",
    "if spam==1:\n",
    "    print(\"Hello\")\n",
    "elif spam==2:\n",
    "    print(\"Howdy\")\n",
    "else:\n",
    "    print(\"Greetings!\")\n",
    "    "
   ]
  }
 ],
 "metadata": {
  "kernelspec": {
   "display_name": "Python 3",
   "language": "python",
   "name": "python3"
  },
  "language_info": {
   "codemirror_mode": {
    "name": "ipython",
    "version": 3
   },
   "file_extension": ".py",
   "mimetype": "text/x-python",
   "name": "python",
   "nbconvert_exporter": "python",
   "pygments_lexer": "ipython3",
   "version": "3.8.5"
  }
 },
 "nbformat": 4,
 "nbformat_minor": 4
}
