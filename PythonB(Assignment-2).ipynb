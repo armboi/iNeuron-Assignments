{
 "cells": [
  {
   "cell_type": "code",
   "execution_count": 9,
   "metadata": {},
   "outputs": [
    {
     "data": {
      "text/plain": [
       "'1. What are the two values of the Boolean data type? How do you write them?\\n \\n-The two values of boolean data type is True and False\\n  \\n    a = True\\n    b = False'"
      ]
     },
     "execution_count": 9,
     "metadata": {},
     "output_type": "execute_result"
    }
   ],
   "source": [
    "\"\"\"1. What are the two values of the Boolean data type? How do you write them?\n",
    " \n",
    "-The two values of boolean data type is True and False\n",
    "  \n",
    "    a = True\n",
    "    b = False\"\"\""
   ]
  },
  {
   "cell_type": "code",
   "execution_count": 10,
   "metadata": {},
   "outputs": [
    {
     "data": {
      "text/plain": [
       "'2. What are the three different types of Boolean operators?\\n\\n-Three types of boolean operators are \\n    -and\\n    -or\\n    -not'"
      ]
     },
     "execution_count": 10,
     "metadata": {},
     "output_type": "execute_result"
    }
   ],
   "source": [
    "\"\"\"2. What are the three different types of Boolean operators?\n",
    "\n",
    "-Three types of boolean operators are \n",
    "    -and\n",
    "    -or\n",
    "    -not\"\"\""
   ]
  },
  {
   "cell_type": "code",
   "execution_count": 11,
   "metadata": {},
   "outputs": [
    {
     "data": {
      "text/plain": [
       "\"3. Make a list of each Boolean operator's truth tables (i.e. every possible combination of Boolean values for the operator and what it evaluate ).\\n\\nand-Operator\\n    x           y          x and y\\n   True       True          True\\n   True       False         False   \\n   False      True          False  \\n   False      False         False  \\n   \\n   \\nor-Operator\\n    x           y          x and y\\n   True       True          True\\n   True       False         True   \\n   False      True          True \\n   False      False         False  \\n   \\n   \\nnot-Operator\\n    x        not x   \\n   True      False\\n   False     True\""
      ]
     },
     "execution_count": 11,
     "metadata": {},
     "output_type": "execute_result"
    }
   ],
   "source": [
    "\"\"\"3. Make a list of each Boolean operator's truth tables (i.e. every possible combination of Boolean values for the operator and what it evaluate ).\n",
    "\n",
    "and-Operator\n",
    "    x           y          x and y\n",
    "   True       True          True\n",
    "   True       False         False   \n",
    "   False      True          False  \n",
    "   False      False         False  \n",
    "   \n",
    "   \n",
    "or-Operator\n",
    "    x           y          x and y\n",
    "   True       True          True\n",
    "   True       False         True   \n",
    "   False      True          True \n",
    "   False      False         False  \n",
    "   \n",
    "   \n",
    "not-Operator\n",
    "    x        not x   \n",
    "   True      False\n",
    "   False     True\"\"\""
   ]
  },
  {
   "cell_type": "code",
   "execution_count": 12,
   "metadata": {},
   "outputs": [
    {
     "data": {
      "text/plain": [
       "'4. What are the values of the following expressions?\\n    (5>4) and (3==5)\\n        -False\\n    not(5>4)\\n        -False\\n    (5>4)or(3==5)\\n        -True\\n    not((5>4)or(3==5))\\n        -False\\n    (True and True)and(True == False)\\n        -False\\n    (not False) or (not True)\\n        -True'"
      ]
     },
     "execution_count": 12,
     "metadata": {},
     "output_type": "execute_result"
    }
   ],
   "source": [
    "\"\"\"4. What are the values of the following expressions?\n",
    "    (5>4) and (3==5)\n",
    "        -False\n",
    "    not(5>4)\n",
    "        -False\n",
    "    (5>4)or(3==5)\n",
    "        -True\n",
    "    not((5>4)or(3==5))\n",
    "        -False\n",
    "    (True and True)and(True == False)\n",
    "        -False\n",
    "    (not False) or (not True)\n",
    "        -True\"\"\""
   ]
  },
  {
   "cell_type": "code",
   "execution_count": 13,
   "metadata": {},
   "outputs": [
    {
     "data": {
      "text/plain": [
       "'5. What are the six comparison operators?\\n\\n ==\\n !=\\n >\\n <\\n >=\\n <='"
      ]
     },
     "execution_count": 13,
     "metadata": {},
     "output_type": "execute_result"
    }
   ],
   "source": [
    "\"\"\"5. What are the six comparison operators?\n",
    "\n",
    " ==\n",
    " !=\n",
    " >\n",
    " <\n",
    " >=\n",
    " <=\"\"\""
   ]
  },
  {
   "cell_type": "code",
   "execution_count": 14,
   "metadata": {},
   "outputs": [
    {
     "data": {
      "text/plain": [
       "'6. How do you tell the difference between the equal to and assignment operators? Describe a condition and when you would use one.\\n-Equal to operator (==)\\n    Used to compare whether two values are equal or not.\\n-Assignment operator (=)\\n    Used to assign a value to a variable'"
      ]
     },
     "execution_count": 14,
     "metadata": {},
     "output_type": "execute_result"
    }
   ],
   "source": [
    "\"\"\"6. How do you tell the difference between the equal to and assignment operators? Describe a condition and when you would use one.\n",
    "-Equal to operator (==)\n",
    "    Used to compare whether two values are equal or not.\n",
    "-Assignment operator (=)\n",
    "    Used to assign a value to a variable\"\"\""
   ]
  },
  {
   "cell_type": "code",
   "execution_count": 15,
   "metadata": {},
   "outputs": [
    {
     "data": {
      "text/plain": [
       "\"7. Identify the three blocks in this code:\\nspam = 0\\nif spam == 10:\\nprint('eggs')\\nif spam>5:\\nprint('bacon')\\nelse:\\nprint('ham')\\nprint('spam')\\nprint('spam')\\n\\nBlock 1 -\\n    if spam == 10:\\n        print('eggs')\\n        \\nBlock 2 -\\n    if spam>5:\\n        print('bacon')\\n        \\nBlock 3 -\\n    else:\\n        print('ham')\\n        print('spam')\\n        print('spam')\""
      ]
     },
     "execution_count": 15,
     "metadata": {},
     "output_type": "execute_result"
    }
   ],
   "source": [
    "\"\"\"7. Identify the three blocks in this code:\n",
    "spam = 0\n",
    "if spam == 10:\n",
    "print('eggs')\n",
    "if spam>5:\n",
    "print('bacon')\n",
    "else:\n",
    "print('ham')\n",
    "print('spam')\n",
    "print('spam')\n",
    "\n",
    "Block 1 -\n",
    "    if spam == 10:\n",
    "        print('eggs')\n",
    "        \n",
    "Block 2 -\n",
    "    if spam>5:\n",
    "        print('bacon')\n",
    "        \n",
    "Block 3 -\n",
    "    else:\n",
    "        print('ham')\n",
    "        print('spam')\n",
    "        print('spam')\"\"\""
   ]
  },
  {
   "cell_type": "code",
   "execution_count": 17,
   "metadata": {},
   "outputs": [
    {
     "name": "stdout",
     "output_type": "stream",
     "text": [
      "6\n",
      "Greetings!\n"
     ]
    }
   ],
   "source": [
    "# 8. Write code that prints Hello if 1 is stored in spam, prints Howdy if 2 is stored in spam, and prints Greetings! if anything else is stored in spam. \n",
    "\n",
    "spam = int(input())\n",
    "if spam==1:\n",
    "    print(\"Hello\")\n",
    "elif spam==2:\n",
    "    print(\"Howdy\")\n",
    "else:\n",
    "    print(\"Greetings!\")\n"
   ]
  }
 ],
 "metadata": {
  "kernelspec": {
   "display_name": "Python 3",
   "language": "python",
   "name": "python3"
  },
  "language_info": {
   "codemirror_mode": {
    "name": "ipython",
    "version": 3
   },
   "file_extension": ".py",
   "mimetype": "text/x-python",
   "name": "python",
   "nbconvert_exporter": "python",
   "pygments_lexer": "ipython3",
   "version": "3.8.5"
  }
 },
 "nbformat": 4,
 "nbformat_minor": 4
}
