{
 "cells": [
  {
   "cell_type": "markdown",
   "metadata": {},
   "source": [
    "1. Write a Python program to convert kilometers to miles?"
   ]
  },
  {
   "cell_type": "code",
   "execution_count": 14,
   "metadata": {},
   "outputs": [
    {
     "name": "stdout",
     "output_type": "stream",
     "text": [
      "13\n",
      "Distance in kilometers is 13.\n",
      "Distance in miles is 8.077823.\n"
     ]
    }
   ],
   "source": [
    "def kmToMile(km):\n",
    "    mil = km*0.621371\n",
    "    return mil\n",
    "\n",
    "km = int(input())\n",
    "print(\"Distance in kilometers is {}.\".format(km))\n",
    "a = kmToMile(km)\n",
    "print(\"Distance in miles is {}.\".format(a))"
   ]
  },
  {
   "cell_type": "markdown",
   "metadata": {},
   "source": [
    "2. Write a Python program to convert Celsius to Fahrenheit"
   ]
  },
  {
   "cell_type": "code",
   "execution_count": 16,
   "metadata": {},
   "outputs": [
    {
     "name": "stdout",
     "output_type": "stream",
     "text": [
      "45\n",
      "Temprature in degree celcius is 45.\n",
      "Temprature in degree celcius is 113.0.\n"
     ]
    }
   ],
   "source": [
    "def celToFar(cel):\n",
    "    far = cel * 9/5 +32\n",
    "    return far\n",
    "\n",
    "cel = int(input())\n",
    "print(\"Temprature in degree celcius is {}.\".format(cel))\n",
    "f = celToFar(cel)\n",
    "print(\"Temprature in degree celcius is {}.\".format(f))"
   ]
  },
  {
   "cell_type": "markdown",
   "metadata": {},
   "source": [
    "3. Write a Python program to display calendar?"
   ]
  },
  {
   "cell_type": "code",
   "execution_count": 21,
   "metadata": {},
   "outputs": [
    {
     "name": "stdout",
     "output_type": "stream",
     "text": [
      "2021\n",
      "6\n",
      "     June 2021\n",
      "Mo Tu We Th Fr Sa Su\n",
      "    1  2  3  4  5  6\n",
      " 7  8  9 10 11 12 13\n",
      "14 15 16 17 18 19 20\n",
      "21 22 23 24 25 26 27\n",
      "28 29 30\n",
      "\n"
     ]
    }
   ],
   "source": [
    "import calendar\n",
    "\n",
    "year = int(input())\n",
    "month = int(input())\n",
    "\n",
    "print(calendar.month(year,month))"
   ]
  },
  {
   "cell_type": "markdown",
   "metadata": {},
   "source": [
    "4. Write a Python program to solve quadratic equation?"
   ]
  },
  {
   "cell_type": "code",
   "execution_count": 2,
   "metadata": {},
   "outputs": [
    {
     "name": "stdout",
     "output_type": "stream",
     "text": [
      "7\n",
      "1\n",
      "9\n",
      "The given quadratic equation is : 7x^2 + 1x + 9\n",
      "The equation has imaginary rootsthat are -442.75 and 435.75.\n"
     ]
    }
   ],
   "source": [
    "def quadratic(a,b,c):\n",
    "    d = b**2 - 4*a*c\n",
    "    root1 = (-1*b+d**1/2)/2*a\n",
    "    root2 = (-1*b-d**1/2)/2*a\n",
    "    if d<0:\n",
    "        print(\"The equation has imaginary rootsthat are {} and {}.\".format(root1, root2))\n",
    "    elif d==0:\n",
    "        print(\"The equation has real and similar roots that are {} and {}.\".format(root1, root2))\n",
    "    else:\n",
    "        print(\"The equation has real and distinct roots that are {} and {}.\".format(root1, root2))\n",
    "    \n",
    "    \n",
    "a=int(input())\n",
    "b=int(input())\n",
    "c=int(input())\n",
    "\n",
    "print(\"The given quadratic equation is : {}x^2 + {}x + {}\".format(a,b,c))\n",
    "quadratic(a,b,c)"
   ]
  },
  {
   "cell_type": "markdown",
   "metadata": {},
   "source": [
    "5. Write a Python program to swap two variables without temp variable"
   ]
  },
  {
   "cell_type": "code",
   "execution_count": 8,
   "metadata": {},
   "outputs": [
    {
     "name": "stdout",
     "output_type": "stream",
     "text": [
      "Enter the variabls that need to be swapped \n",
      "3\n",
      "4\n",
      "The variables a = 3 and b = 4 after swapping are a = 4 and b = 3\n"
     ]
    }
   ],
   "source": [
    "print(\"Enter the variabls that need to be swapped \")\n",
    "x = a = int(input())\n",
    "y = b = int(input())\n",
    "\n",
    "a^=b\n",
    "b^=a\n",
    "a^=b\n",
    "\n",
    "print(\"The variables a = {} and b = {} after swapping are a = {} and b = {}\".format(x, y, a, b))"
   ]
  },
  {
   "cell_type": "code",
   "execution_count": null,
   "metadata": {},
   "outputs": [],
   "source": []
  }
 ],
 "metadata": {
  "kernelspec": {
   "display_name": "Python 3",
   "language": "python",
   "name": "python3"
  },
  "language_info": {
   "codemirror_mode": {
    "name": "ipython",
    "version": 3
   },
   "file_extension": ".py",
   "mimetype": "text/x-python",
   "name": "python",
   "nbconvert_exporter": "python",
   "pygments_lexer": "ipython3",
   "version": "3.8.5"
  }
 },
 "nbformat": 4,
 "nbformat_minor": 4
}
